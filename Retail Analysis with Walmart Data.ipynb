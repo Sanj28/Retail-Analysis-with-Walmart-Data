{
 "cells": [
  {
   "cell_type": "code",
   "execution_count": 71,
   "id": "0d82f6a8",
   "metadata": {},
   "outputs": [],
   "source": [
    "import numpy as np\n",
    "import pandas as pd\n",
    "import matplotlib.pyplot as plt\n",
    "from datetime import date"
   ]
  },
  {
   "cell_type": "code",
   "execution_count": 23,
   "id": "d3f4c40a",
   "metadata": {},
   "outputs": [],
   "source": [
    "df=pd.read_csv('Walmart_Store_sales.csv')"
   ]
  },
  {
   "cell_type": "code",
   "execution_count": 24,
   "id": "c9cfeee5",
   "metadata": {},
   "outputs": [
    {
     "data": {
      "text/html": [
       "<div>\n",
       "<style scoped>\n",
       "    .dataframe tbody tr th:only-of-type {\n",
       "        vertical-align: middle;\n",
       "    }\n",
       "\n",
       "    .dataframe tbody tr th {\n",
       "        vertical-align: top;\n",
       "    }\n",
       "\n",
       "    .dataframe thead th {\n",
       "        text-align: right;\n",
       "    }\n",
       "</style>\n",
       "<table border=\"1\" class=\"dataframe\">\n",
       "  <thead>\n",
       "    <tr style=\"text-align: right;\">\n",
       "      <th></th>\n",
       "      <th>Store</th>\n",
       "      <th>Date</th>\n",
       "      <th>Weekly_Sales</th>\n",
       "      <th>Holiday_Flag</th>\n",
       "      <th>Temperature</th>\n",
       "      <th>Fuel_Price</th>\n",
       "      <th>CPI</th>\n",
       "      <th>Unemployment</th>\n",
       "    </tr>\n",
       "  </thead>\n",
       "  <tbody>\n",
       "    <tr>\n",
       "      <th>0</th>\n",
       "      <td>1</td>\n",
       "      <td>05-02-2010</td>\n",
       "      <td>1643690.90</td>\n",
       "      <td>0</td>\n",
       "      <td>42.31</td>\n",
       "      <td>2.572</td>\n",
       "      <td>211.096358</td>\n",
       "      <td>8.106</td>\n",
       "    </tr>\n",
       "    <tr>\n",
       "      <th>1</th>\n",
       "      <td>1</td>\n",
       "      <td>12-02-2010</td>\n",
       "      <td>1641957.44</td>\n",
       "      <td>1</td>\n",
       "      <td>38.51</td>\n",
       "      <td>2.548</td>\n",
       "      <td>211.242170</td>\n",
       "      <td>8.106</td>\n",
       "    </tr>\n",
       "    <tr>\n",
       "      <th>2</th>\n",
       "      <td>1</td>\n",
       "      <td>19-02-2010</td>\n",
       "      <td>1611968.17</td>\n",
       "      <td>0</td>\n",
       "      <td>39.93</td>\n",
       "      <td>2.514</td>\n",
       "      <td>211.289143</td>\n",
       "      <td>8.106</td>\n",
       "    </tr>\n",
       "    <tr>\n",
       "      <th>3</th>\n",
       "      <td>1</td>\n",
       "      <td>26-02-2010</td>\n",
       "      <td>1409727.59</td>\n",
       "      <td>0</td>\n",
       "      <td>46.63</td>\n",
       "      <td>2.561</td>\n",
       "      <td>211.319643</td>\n",
       "      <td>8.106</td>\n",
       "    </tr>\n",
       "    <tr>\n",
       "      <th>4</th>\n",
       "      <td>1</td>\n",
       "      <td>05-03-2010</td>\n",
       "      <td>1554806.68</td>\n",
       "      <td>0</td>\n",
       "      <td>46.50</td>\n",
       "      <td>2.625</td>\n",
       "      <td>211.350143</td>\n",
       "      <td>8.106</td>\n",
       "    </tr>\n",
       "  </tbody>\n",
       "</table>\n",
       "</div>"
      ],
      "text/plain": [
       "   Store        Date  Weekly_Sales  Holiday_Flag  Temperature  Fuel_Price  \\\n",
       "0      1  05-02-2010    1643690.90             0        42.31       2.572   \n",
       "1      1  12-02-2010    1641957.44             1        38.51       2.548   \n",
       "2      1  19-02-2010    1611968.17             0        39.93       2.514   \n",
       "3      1  26-02-2010    1409727.59             0        46.63       2.561   \n",
       "4      1  05-03-2010    1554806.68             0        46.50       2.625   \n",
       "\n",
       "          CPI  Unemployment  \n",
       "0  211.096358         8.106  \n",
       "1  211.242170         8.106  \n",
       "2  211.289143         8.106  \n",
       "3  211.319643         8.106  \n",
       "4  211.350143         8.106  "
      ]
     },
     "execution_count": 24,
     "metadata": {},
     "output_type": "execute_result"
    }
   ],
   "source": [
    "df.head()"
   ]
  },
  {
   "cell_type": "code",
   "execution_count": 25,
   "id": "9ac85c2a",
   "metadata": {},
   "outputs": [
    {
     "data": {
      "text/plain": [
       "(6435, 8)"
      ]
     },
     "execution_count": 25,
     "metadata": {},
     "output_type": "execute_result"
    }
   ],
   "source": [
    "df.shape"
   ]
  },
  {
   "cell_type": "code",
   "execution_count": 26,
   "id": "ed6eacbc",
   "metadata": {},
   "outputs": [
    {
     "data": {
      "text/plain": [
       "Index(['Store', 'Date', 'Weekly_Sales', 'Holiday_Flag', 'Temperature',\n",
       "       'Fuel_Price', 'CPI', 'Unemployment'],\n",
       "      dtype='object')"
      ]
     },
     "execution_count": 26,
     "metadata": {},
     "output_type": "execute_result"
    }
   ],
   "source": [
    "df.columns"
   ]
  },
  {
   "cell_type": "code",
   "execution_count": 27,
   "id": "31e4c3fc",
   "metadata": {},
   "outputs": [
    {
     "data": {
      "text/plain": [
       "301397792.46"
      ]
     },
     "execution_count": 27,
     "metadata": {},
     "output_type": "execute_result"
    }
   ],
   "source": [
    "# maximum sales\n",
    "sale=[]\n",
    "sale=df.groupby(['Store'])['Weekly_Sales'].sum()\n",
    "max_sale=max(df.groupby(['Store'])['Weekly_Sales'].sum())\n",
    "max_sale"
   ]
  },
  {
   "cell_type": "code",
   "execution_count": 28,
   "id": "ce15796b",
   "metadata": {},
   "outputs": [
    {
     "data": {
      "text/plain": [
       "Store\n",
       "1     2.224028e+08\n",
       "2     2.753824e+08\n",
       "3     5.758674e+07\n",
       "4     2.995440e+08\n",
       "5     4.547569e+07\n",
       "6     2.237561e+08\n",
       "7     8.159828e+07\n",
       "8     1.299512e+08\n",
       "9     7.778922e+07\n",
       "10    2.716177e+08\n",
       "11    1.939628e+08\n",
       "12    1.442872e+08\n",
       "13    2.865177e+08\n",
       "14    2.889999e+08\n",
       "15    8.913368e+07\n",
       "16    7.425243e+07\n",
       "17    1.277821e+08\n",
       "18    1.551147e+08\n",
       "19    2.066349e+08\n",
       "20    3.013978e+08\n",
       "21    1.081179e+08\n",
       "22    1.470756e+08\n",
       "23    1.987506e+08\n",
       "24    1.940160e+08\n",
       "25    1.010612e+08\n",
       "26    1.434164e+08\n",
       "27    2.538559e+08\n",
       "28    1.892637e+08\n",
       "29    7.714155e+07\n",
       "30    6.271689e+07\n",
       "31    1.996139e+08\n",
       "32    1.668192e+08\n",
       "33    3.716022e+07\n",
       "34    1.382498e+08\n",
       "35    1.315207e+08\n",
       "36    5.341221e+07\n",
       "37    7.420274e+07\n",
       "38    5.515963e+07\n",
       "39    2.074455e+08\n",
       "40    1.378703e+08\n",
       "41    1.813419e+08\n",
       "42    7.956575e+07\n",
       "43    9.056544e+07\n",
       "44    4.329309e+07\n",
       "45    1.123953e+08\n",
       "Name: Weekly_Sales, dtype: float64"
      ]
     },
     "execution_count": 28,
     "metadata": {},
     "output_type": "execute_result"
    }
   ],
   "source": [
    "sale"
   ]
  },
  {
   "cell_type": "code",
   "execution_count": 35,
   "id": "4b371a8f",
   "metadata": {},
   "outputs": [
    {
     "name": "stdout",
     "output_type": "stream",
     "text": [
      "Store 20 has maximum sales that is 301397792.46\n"
     ]
    }
   ],
   "source": [
    "for i in range(1,46):\n",
    "    if sale[i]==max_sale:\n",
    "        print('Store {} has maximum sales that is {}'.format(i,max_sale))\n",
    "        "
   ]
  },
  {
   "cell_type": "code",
   "execution_count": 36,
   "id": "ca8840e1",
   "metadata": {},
   "outputs": [],
   "source": [
    "# Maximum standard deviation"
   ]
  },
  {
   "cell_type": "code",
   "execution_count": 42,
   "id": "3ab90686",
   "metadata": {},
   "outputs": [],
   "source": [
    "std_dev=[]\n",
    "std_dev=df.groupby(['Store'])['Weekly_Sales'].std()\n",
    "max_std=max(df.groupby(['Store'])['Weekly_Sales'].std())\n"
   ]
  },
  {
   "cell_type": "code",
   "execution_count": 43,
   "id": "5b73b238",
   "metadata": {},
   "outputs": [
    {
     "data": {
      "text/plain": [
       "317569.9494755081"
      ]
     },
     "execution_count": 43,
     "metadata": {},
     "output_type": "execute_result"
    }
   ],
   "source": [
    "max_std"
   ]
  },
  {
   "cell_type": "code",
   "execution_count": 102,
   "id": "014e17f1",
   "metadata": {},
   "outputs": [
    {
     "data": {
      "text/plain": [
       "Store\n",
       "1    155980.767761\n",
       "2    237683.694682\n",
       "3     46319.631557\n",
       "4    266201.442297\n",
       "5     37737.965745\n",
       "Name: Weekly_Sales, dtype: float64"
      ]
     },
     "execution_count": 102,
     "metadata": {},
     "output_type": "execute_result"
    }
   ],
   "source": [
    "std_dev.head()"
   ]
  },
  {
   "cell_type": "code",
   "execution_count": 46,
   "id": "123d7afe",
   "metadata": {},
   "outputs": [
    {
     "name": "stdout",
     "output_type": "stream",
     "text": [
      "Store 14 has maximum standard deviation 317569.9494755081\n"
     ]
    }
   ],
   "source": [
    "for i in range(1,46):\n",
    "    if std_dev[i]==max_std:\n",
    "        print('Store {} has maximum standard deviation {}'.format(i,max_std))"
   ]
  },
  {
   "cell_type": "code",
   "execution_count": 103,
   "id": "c725be46",
   "metadata": {},
   "outputs": [
    {
     "data": {
      "text/html": [
       "<div>\n",
       "<style scoped>\n",
       "    .dataframe tbody tr th:only-of-type {\n",
       "        vertical-align: middle;\n",
       "    }\n",
       "\n",
       "    .dataframe tbody tr th {\n",
       "        vertical-align: top;\n",
       "    }\n",
       "\n",
       "    .dataframe thead th {\n",
       "        text-align: right;\n",
       "    }\n",
       "</style>\n",
       "<table border=\"1\" class=\"dataframe\">\n",
       "  <thead>\n",
       "    <tr style=\"text-align: right;\">\n",
       "      <th></th>\n",
       "      <th>Store</th>\n",
       "      <th>Date</th>\n",
       "      <th>Weekly_Sales</th>\n",
       "      <th>Holiday_Flag</th>\n",
       "      <th>Temperature</th>\n",
       "      <th>Fuel_Price</th>\n",
       "      <th>CPI</th>\n",
       "      <th>Unemployment</th>\n",
       "      <th>Year</th>\n",
       "      <th>Month</th>\n",
       "      <th>days</th>\n",
       "    </tr>\n",
       "  </thead>\n",
       "  <tbody>\n",
       "    <tr>\n",
       "      <th>122</th>\n",
       "      <td>1</td>\n",
       "      <td>2012-08-06</td>\n",
       "      <td>1697230.96</td>\n",
       "      <td>0</td>\n",
       "      <td>78.30</td>\n",
       "      <td>3.452</td>\n",
       "      <td>221.749484</td>\n",
       "      <td>7.143</td>\n",
       "      <td>2012</td>\n",
       "      <td>8</td>\n",
       "      <td>Monday</td>\n",
       "    </tr>\n",
       "    <tr>\n",
       "      <th>127</th>\n",
       "      <td>1</td>\n",
       "      <td>2012-07-13</td>\n",
       "      <td>1527014.04</td>\n",
       "      <td>0</td>\n",
       "      <td>77.12</td>\n",
       "      <td>3.256</td>\n",
       "      <td>221.924158</td>\n",
       "      <td>6.908</td>\n",
       "      <td>2012</td>\n",
       "      <td>7</td>\n",
       "      <td>Friday</td>\n",
       "    </tr>\n",
       "    <tr>\n",
       "      <th>128</th>\n",
       "      <td>1</td>\n",
       "      <td>2012-07-20</td>\n",
       "      <td>1497954.76</td>\n",
       "      <td>0</td>\n",
       "      <td>80.42</td>\n",
       "      <td>3.311</td>\n",
       "      <td>221.932727</td>\n",
       "      <td>6.908</td>\n",
       "      <td>2012</td>\n",
       "      <td>7</td>\n",
       "      <td>Friday</td>\n",
       "    </tr>\n",
       "    <tr>\n",
       "      <th>129</th>\n",
       "      <td>1</td>\n",
       "      <td>2012-07-27</td>\n",
       "      <td>1439123.71</td>\n",
       "      <td>0</td>\n",
       "      <td>82.66</td>\n",
       "      <td>3.407</td>\n",
       "      <td>221.941295</td>\n",
       "      <td>6.908</td>\n",
       "      <td>2012</td>\n",
       "      <td>7</td>\n",
       "      <td>Friday</td>\n",
       "    </tr>\n",
       "    <tr>\n",
       "      <th>132</th>\n",
       "      <td>1</td>\n",
       "      <td>2012-08-17</td>\n",
       "      <td>1597868.05</td>\n",
       "      <td>0</td>\n",
       "      <td>84.85</td>\n",
       "      <td>3.571</td>\n",
       "      <td>222.038411</td>\n",
       "      <td>6.908</td>\n",
       "      <td>2012</td>\n",
       "      <td>8</td>\n",
       "      <td>Friday</td>\n",
       "    </tr>\n",
       "  </tbody>\n",
       "</table>\n",
       "</div>"
      ],
      "text/plain": [
       "     Store       Date  Weekly_Sales  Holiday_Flag  Temperature  Fuel_Price  \\\n",
       "122      1 2012-08-06    1697230.96             0        78.30       3.452   \n",
       "127      1 2012-07-13    1527014.04             0        77.12       3.256   \n",
       "128      1 2012-07-20    1497954.76             0        80.42       3.311   \n",
       "129      1 2012-07-27    1439123.71             0        82.66       3.407   \n",
       "132      1 2012-08-17    1597868.05             0        84.85       3.571   \n",
       "\n",
       "            CPI  Unemployment  Year  Month    days  \n",
       "122  221.749484         7.143  2012      8  Monday  \n",
       "127  221.924158         6.908  2012      7  Friday  \n",
       "128  221.932727         6.908  2012      7  Friday  \n",
       "129  221.941295         6.908  2012      7  Friday  \n",
       "132  222.038411         6.908  2012      8  Friday  "
      ]
     },
     "execution_count": 103,
     "metadata": {},
     "output_type": "execute_result"
    }
   ],
   "source": [
    "#  good quarterly growth rate in Q3’2012\n",
    "df1=df\n",
    "df[\"Date\"]=pd.to_datetime(df[\"Date\"])\n",
    "date_from=pd.Timestamp(date(2012,7,1))\n",
    "date_to = pd.Timestamp(date(2012,9,1))\n",
    "df1 = df1[(df1['Date'] > date_from ) & (df1['Date'] < date_to)]\n",
    "df1.head()"
   ]
  },
  {
   "cell_type": "code",
   "execution_count": 52,
   "id": "8546b6ec",
   "metadata": {},
   "outputs": [
    {
     "data": {
      "text/plain": [
       "17184755.18"
      ]
     },
     "execution_count": 52,
     "metadata": {},
     "output_type": "execute_result"
    }
   ],
   "source": [
    "growth=[]\n",
    "growth=df1.groupby(['Store'])['Weekly_Sales'].sum()\n",
    "max_growth=max(df1.groupby(['Store'])['Weekly_Sales'].sum())\n"
   ]
  },
  {
   "cell_type": "code",
   "execution_count": 104,
   "id": "70e2ac60",
   "metadata": {},
   "outputs": [
    {
     "data": {
      "text/plain": [
       "Store\n",
       "1    12497164.63\n",
       "2    15068546.49\n",
       "3     3309539.61\n",
       "4    17184755.18\n",
       "5     2616077.17\n",
       "Name: Weekly_Sales, dtype: float64"
      ]
     },
     "execution_count": 104,
     "metadata": {},
     "output_type": "execute_result"
    }
   ],
   "source": [
    "growth.head()"
   ]
  },
  {
   "cell_type": "code",
   "execution_count": 54,
   "id": "c79a60bf",
   "metadata": {},
   "outputs": [
    {
     "data": {
      "text/plain": [
       "17184755.18"
      ]
     },
     "execution_count": 54,
     "metadata": {},
     "output_type": "execute_result"
    }
   ],
   "source": [
    "max_growth"
   ]
  },
  {
   "cell_type": "code",
   "execution_count": 57,
   "id": "d6cc0cd2",
   "metadata": {},
   "outputs": [
    {
     "name": "stdout",
     "output_type": "stream",
     "text": [
      "Store 4 has maximum Q3 growth of 17184755.18\n"
     ]
    }
   ],
   "source": [
    "for i in range(1,46):\n",
    "    if max_growth==growth[i]:\n",
    "        print('Store {} has maximum Q3 growth of {}'.format(i,max_growth))"
   ]
  },
  {
   "cell_type": "markdown",
   "id": "3e50b217",
   "metadata": {},
   "source": [
    "Super Bowl: 12-Feb-10, 11-Feb-11, 10-Feb-12, 8-Feb-13\n",
    "Labour Day: 10-Sep-10, 9-Sep-11, 7-Sep-12, 6-Sep-13\n",
    "Thanksgiving: 26-Nov-10, 25-Nov-11, 23-Nov-12, 29-Nov-13\n",
    "Christmas: 31-Dec-10, 30-Dec-11, 28-Dec-12, 27-Dec-13"
   ]
  },
  {
   "cell_type": "code",
   "execution_count": 58,
   "id": "c841bc96",
   "metadata": {},
   "outputs": [
    {
     "data": {
      "text/html": [
       "<div>\n",
       "<style scoped>\n",
       "    .dataframe tbody tr th:only-of-type {\n",
       "        vertical-align: middle;\n",
       "    }\n",
       "\n",
       "    .dataframe tbody tr th {\n",
       "        vertical-align: top;\n",
       "    }\n",
       "\n",
       "    .dataframe thead th {\n",
       "        text-align: right;\n",
       "    }\n",
       "</style>\n",
       "<table border=\"1\" class=\"dataframe\">\n",
       "  <thead>\n",
       "    <tr style=\"text-align: right;\">\n",
       "      <th></th>\n",
       "      <th>Store</th>\n",
       "      <th>Date</th>\n",
       "      <th>Weekly_Sales</th>\n",
       "      <th>Holiday_Flag</th>\n",
       "      <th>Temperature</th>\n",
       "      <th>Fuel_Price</th>\n",
       "      <th>CPI</th>\n",
       "      <th>Unemployment</th>\n",
       "    </tr>\n",
       "  </thead>\n",
       "  <tbody>\n",
       "  </tbody>\n",
       "</table>\n",
       "</div>"
      ],
      "text/plain": [
       "Empty DataFrame\n",
       "Columns: [Store, Date, Weekly_Sales, Holiday_Flag, Temperature, Fuel_Price, CPI, Unemployment]\n",
       "Index: []"
      ]
     },
     "execution_count": 58,
     "metadata": {},
     "output_type": "execute_result"
    }
   ],
   "source": [
    "Super_Bowl=df.loc[(df['Date']=='2010-02-10')|(df['Date']=='2011-02-11')|(df['Date']=='2012-02-10')|(df['Date']=='2013-02-08')]\n",
    "Super_Bowl"
   ]
  },
  {
   "cell_type": "code",
   "execution_count": 59,
   "id": "68958bcc",
   "metadata": {},
   "outputs": [
    {
     "data": {
      "text/plain": [
       "0.0"
      ]
     },
     "execution_count": 59,
     "metadata": {},
     "output_type": "execute_result"
    }
   ],
   "source": [
    "Super_Bowl['Weekly_Sales'].sum()"
   ]
  },
  {
   "cell_type": "code",
   "execution_count": 105,
   "id": "a8f5f607",
   "metadata": {},
   "outputs": [
    {
     "data": {
      "text/html": [
       "<div>\n",
       "<style scoped>\n",
       "    .dataframe tbody tr th:only-of-type {\n",
       "        vertical-align: middle;\n",
       "    }\n",
       "\n",
       "    .dataframe tbody tr th {\n",
       "        vertical-align: top;\n",
       "    }\n",
       "\n",
       "    .dataframe thead th {\n",
       "        text-align: right;\n",
       "    }\n",
       "</style>\n",
       "<table border=\"1\" class=\"dataframe\">\n",
       "  <thead>\n",
       "    <tr style=\"text-align: right;\">\n",
       "      <th></th>\n",
       "      <th>Store</th>\n",
       "      <th>Date</th>\n",
       "      <th>Weekly_Sales</th>\n",
       "      <th>Holiday_Flag</th>\n",
       "      <th>Temperature</th>\n",
       "      <th>Fuel_Price</th>\n",
       "      <th>CPI</th>\n",
       "      <th>Unemployment</th>\n",
       "      <th>Year</th>\n",
       "      <th>Month</th>\n",
       "      <th>days</th>\n",
       "    </tr>\n",
       "  </thead>\n",
       "  <tbody>\n",
       "    <tr>\n",
       "      <th>83</th>\n",
       "      <td>1</td>\n",
       "      <td>2011-09-09</td>\n",
       "      <td>1540471.24</td>\n",
       "      <td>1</td>\n",
       "      <td>76.00</td>\n",
       "      <td>3.546</td>\n",
       "      <td>215.861056</td>\n",
       "      <td>7.962</td>\n",
       "      <td>2011</td>\n",
       "      <td>9</td>\n",
       "      <td>Friday</td>\n",
       "    </tr>\n",
       "    <tr>\n",
       "      <th>226</th>\n",
       "      <td>2</td>\n",
       "      <td>2011-09-09</td>\n",
       "      <td>1748000.65</td>\n",
       "      <td>1</td>\n",
       "      <td>77.97</td>\n",
       "      <td>3.546</td>\n",
       "      <td>215.514829</td>\n",
       "      <td>7.852</td>\n",
       "      <td>2011</td>\n",
       "      <td>9</td>\n",
       "      <td>Friday</td>\n",
       "    </tr>\n",
       "    <tr>\n",
       "      <th>369</th>\n",
       "      <td>3</td>\n",
       "      <td>2011-09-09</td>\n",
       "      <td>377347.49</td>\n",
       "      <td>1</td>\n",
       "      <td>81.72</td>\n",
       "      <td>3.546</td>\n",
       "      <td>219.213530</td>\n",
       "      <td>7.567</td>\n",
       "      <td>2011</td>\n",
       "      <td>9</td>\n",
       "      <td>Friday</td>\n",
       "    </tr>\n",
       "    <tr>\n",
       "      <th>512</th>\n",
       "      <td>4</td>\n",
       "      <td>2011-09-09</td>\n",
       "      <td>2093139.01</td>\n",
       "      <td>1</td>\n",
       "      <td>73.34</td>\n",
       "      <td>3.554</td>\n",
       "      <td>129.368613</td>\n",
       "      <td>5.644</td>\n",
       "      <td>2011</td>\n",
       "      <td>9</td>\n",
       "      <td>Friday</td>\n",
       "    </tr>\n",
       "    <tr>\n",
       "      <th>655</th>\n",
       "      <td>5</td>\n",
       "      <td>2011-09-09</td>\n",
       "      <td>321110.22</td>\n",
       "      <td>1</td>\n",
       "      <td>79.04</td>\n",
       "      <td>3.546</td>\n",
       "      <td>216.422682</td>\n",
       "      <td>6.529</td>\n",
       "      <td>2011</td>\n",
       "      <td>9</td>\n",
       "      <td>Friday</td>\n",
       "    </tr>\n",
       "  </tbody>\n",
       "</table>\n",
       "</div>"
      ],
      "text/plain": [
       "     Store       Date  Weekly_Sales  Holiday_Flag  Temperature  Fuel_Price  \\\n",
       "83       1 2011-09-09    1540471.24             1        76.00       3.546   \n",
       "226      2 2011-09-09    1748000.65             1        77.97       3.546   \n",
       "369      3 2011-09-09     377347.49             1        81.72       3.546   \n",
       "512      4 2011-09-09    2093139.01             1        73.34       3.554   \n",
       "655      5 2011-09-09     321110.22             1        79.04       3.546   \n",
       "\n",
       "            CPI  Unemployment  Year  Month    days  \n",
       "83   215.861056         7.962  2011      9  Friday  \n",
       "226  215.514829         7.852  2011      9  Friday  \n",
       "369  219.213530         7.567  2011      9  Friday  \n",
       "512  129.368613         5.644  2011      9  Friday  \n",
       "655  216.422682         6.529  2011      9  Friday  "
      ]
     },
     "execution_count": 105,
     "metadata": {},
     "output_type": "execute_result"
    }
   ],
   "source": [
    "Labour_Day=df.loc[(df[\"Date\"]==\"2010-09-10\") | (df[\"Date\"]==\"2011-09-09\") | (df[\"Date\"]==\"2012-09-07\") | (df[\"Date\"]==\"2013-09-06\")]\n",
    "Labour_Day.head()"
   ]
  },
  {
   "cell_type": "code",
   "execution_count": 63,
   "id": "3ea108bb",
   "metadata": {},
   "outputs": [
    {
     "data": {
      "text/plain": [
       "46763227.529999994"
      ]
     },
     "execution_count": 63,
     "metadata": {},
     "output_type": "execute_result"
    }
   ],
   "source": [
    "Labour_Day['Weekly_Sales'].sum()"
   ]
  },
  {
   "cell_type": "code",
   "execution_count": 106,
   "id": "61bfa499",
   "metadata": {},
   "outputs": [
    {
     "data": {
      "text/html": [
       "<div>\n",
       "<style scoped>\n",
       "    .dataframe tbody tr th:only-of-type {\n",
       "        vertical-align: middle;\n",
       "    }\n",
       "\n",
       "    .dataframe tbody tr th {\n",
       "        vertical-align: top;\n",
       "    }\n",
       "\n",
       "    .dataframe thead th {\n",
       "        text-align: right;\n",
       "    }\n",
       "</style>\n",
       "<table border=\"1\" class=\"dataframe\">\n",
       "  <thead>\n",
       "    <tr style=\"text-align: right;\">\n",
       "      <th></th>\n",
       "      <th>Store</th>\n",
       "      <th>Date</th>\n",
       "      <th>Weekly_Sales</th>\n",
       "      <th>Holiday_Flag</th>\n",
       "      <th>Temperature</th>\n",
       "      <th>Fuel_Price</th>\n",
       "      <th>CPI</th>\n",
       "      <th>Unemployment</th>\n",
       "      <th>Year</th>\n",
       "      <th>Month</th>\n",
       "      <th>days</th>\n",
       "    </tr>\n",
       "  </thead>\n",
       "  <tbody>\n",
       "    <tr>\n",
       "      <th>42</th>\n",
       "      <td>1</td>\n",
       "      <td>2010-11-26</td>\n",
       "      <td>1955624.11</td>\n",
       "      <td>1</td>\n",
       "      <td>64.52</td>\n",
       "      <td>2.735</td>\n",
       "      <td>211.748433</td>\n",
       "      <td>7.838</td>\n",
       "      <td>2010</td>\n",
       "      <td>11</td>\n",
       "      <td>Friday</td>\n",
       "    </tr>\n",
       "    <tr>\n",
       "      <th>94</th>\n",
       "      <td>1</td>\n",
       "      <td>2011-11-25</td>\n",
       "      <td>2033320.66</td>\n",
       "      <td>1</td>\n",
       "      <td>60.14</td>\n",
       "      <td>3.236</td>\n",
       "      <td>218.467621</td>\n",
       "      <td>7.866</td>\n",
       "      <td>2011</td>\n",
       "      <td>11</td>\n",
       "      <td>Friday</td>\n",
       "    </tr>\n",
       "    <tr>\n",
       "      <th>185</th>\n",
       "      <td>2</td>\n",
       "      <td>2010-11-26</td>\n",
       "      <td>2658725.29</td>\n",
       "      <td>1</td>\n",
       "      <td>62.98</td>\n",
       "      <td>2.735</td>\n",
       "      <td>211.406287</td>\n",
       "      <td>8.163</td>\n",
       "      <td>2010</td>\n",
       "      <td>11</td>\n",
       "      <td>Friday</td>\n",
       "    </tr>\n",
       "    <tr>\n",
       "      <th>237</th>\n",
       "      <td>2</td>\n",
       "      <td>2011-11-25</td>\n",
       "      <td>2614202.30</td>\n",
       "      <td>1</td>\n",
       "      <td>56.36</td>\n",
       "      <td>3.236</td>\n",
       "      <td>218.113027</td>\n",
       "      <td>7.441</td>\n",
       "      <td>2011</td>\n",
       "      <td>11</td>\n",
       "      <td>Friday</td>\n",
       "    </tr>\n",
       "    <tr>\n",
       "      <th>328</th>\n",
       "      <td>3</td>\n",
       "      <td>2010-11-26</td>\n",
       "      <td>565567.84</td>\n",
       "      <td>1</td>\n",
       "      <td>68.71</td>\n",
       "      <td>2.735</td>\n",
       "      <td>215.061403</td>\n",
       "      <td>7.564</td>\n",
       "      <td>2010</td>\n",
       "      <td>11</td>\n",
       "      <td>Friday</td>\n",
       "    </tr>\n",
       "  </tbody>\n",
       "</table>\n",
       "</div>"
      ],
      "text/plain": [
       "     Store       Date  Weekly_Sales  Holiday_Flag  Temperature  Fuel_Price  \\\n",
       "42       1 2010-11-26    1955624.11             1        64.52       2.735   \n",
       "94       1 2011-11-25    2033320.66             1        60.14       3.236   \n",
       "185      2 2010-11-26    2658725.29             1        62.98       2.735   \n",
       "237      2 2011-11-25    2614202.30             1        56.36       3.236   \n",
       "328      3 2010-11-26     565567.84             1        68.71       2.735   \n",
       "\n",
       "            CPI  Unemployment  Year  Month    days  \n",
       "42   211.748433         7.838  2010     11  Friday  \n",
       "94   218.467621         7.866  2011     11  Friday  \n",
       "185  211.406287         8.163  2010     11  Friday  \n",
       "237  218.113027         7.441  2011     11  Friday  \n",
       "328  215.061403         7.564  2010     11  Friday  "
      ]
     },
     "execution_count": 106,
     "metadata": {},
     "output_type": "execute_result"
    }
   ],
   "source": [
    "Thanksgivings=df.loc[(df[\"Date\"]==\"2010-11-26\") | (df[\"Date\"]==\"2011-11-25\") | (df[\"Date\"]==\"2012-11-23\") | (df[\"Date\"]==\"2013-11-29\")]\n",
    "Thanksgivings.head()"
   ]
  },
  {
   "cell_type": "code",
   "execution_count": 65,
   "id": "40b40140",
   "metadata": {},
   "outputs": [
    {
     "data": {
      "text/plain": [
       "132414608.5"
      ]
     },
     "execution_count": 65,
     "metadata": {},
     "output_type": "execute_result"
    }
   ],
   "source": [
    "Thanksgivings[\"Weekly_Sales\"].sum()"
   ]
  },
  {
   "cell_type": "markdown",
   "id": "45803980",
   "metadata": {},
   "source": [
    "On Thanksgivings holiday has maximum sales is 132414608.5"
   ]
  },
  {
   "cell_type": "code",
   "execution_count": 66,
   "id": "72c3c840",
   "metadata": {},
   "outputs": [],
   "source": [
    "# Monthly view of sales for each year"
   ]
  },
  {
   "cell_type": "code",
   "execution_count": 68,
   "id": "4668be86",
   "metadata": {},
   "outputs": [],
   "source": [
    "df[\"Year\"]= pd.DatetimeIndex(df['Date']).year\n",
    "df[\"Month\"]= pd.DatetimeIndex(df['Date']).month"
   ]
  },
  {
   "cell_type": "code",
   "execution_count": 69,
   "id": "90189e42",
   "metadata": {},
   "outputs": [],
   "source": [
    "year_2010=df.loc[df[\"Year\"]==2010]\n",
    "year_2011=df.loc[df[\"Year\"]==2011]\n",
    "year_2012=df.loc[df[\"Year\"]==2012]"
   ]
  },
  {
   "cell_type": "code",
   "execution_count": 81,
   "id": "add0dca3",
   "metadata": {},
   "outputs": [
    {
     "data": {
      "text/plain": [
       "<matplotlib.collections.PathCollection at 0x2394af421f0>"
      ]
     },
     "execution_count": 81,
     "metadata": {},
     "output_type": "execute_result"
    },
    {
     "data": {
      "image/png": "[encoded data removed]",
      "text/plain": [
       "<Figure size 432x288 with 1 Axes>"
      ]
     },
     "metadata": {
      "needs_background": "light"
     },
     "output_type": "display_data"
    }
   ],
   "source": [
    "plt.scatter(year_2010[\"Month\"],year_2010[\"Weekly_Sales\"])"
   ]
  },
  {
   "cell_type": "code",
   "execution_count": 82,
   "id": "aea53434",
   "metadata": {},
   "outputs": [
    {
     "data": {
      "text/plain": [
       "<matplotlib.collections.PathCollection at 0x2394b032640>"
      ]
     },
     "execution_count": 82,
     "metadata": {},
     "output_type": "execute_result"
    },
    {
     "data": {
      "image/png": "[encoded data removed]",
      "text/plain": [
       "<Figure size 432x288 with 1 Axes>"
      ]
     },
     "metadata": {
      "needs_background": "light"
     },
     "output_type": "display_data"
    }
   ],
   "source": [
    "plt.scatter(year_2011[\"Month\"],year_2011[\"Weekly_Sales\"])"
   ]
  },
  {
   "cell_type": "code",
   "execution_count": 83,
   "id": "1cbdf5d9",
   "metadata": {
    "scrolled": true
   },
   "outputs": [
    {
     "data": {
      "text/plain": [
       "<matplotlib.collections.PathCollection at 0x2394afad910>"
      ]
     },
     "execution_count": 83,
     "metadata": {},
     "output_type": "execute_result"
    },
    {
     "data": {
      "image/png": "[encoded data removed]",
      "text/plain": [
       "<Figure size 432x288 with 1 Axes>"
      ]
     },
     "metadata": {
      "needs_background": "light"
     },
     "output_type": "display_data"
    }
   ],
   "source": [
    "plt.scatter(year_2012[\"Month\"],year_2012[\"Weekly_Sales\"])"
   ]
  },
  {
   "cell_type": "code",
   "execution_count": 109,
   "id": "8cd52588",
   "metadata": {},
   "outputs": [
    {
     "data": {
      "text/plain": [
       "<BarContainer object of 6435 artists>"
      ]
     },
     "execution_count": 109,
     "metadata": {},
     "output_type": "execute_result"
    },
    {
     "data": {
      "image/png": "[encoded data removed]",
      "text/plain": [
       "<Figure size 432x288 with 1 Axes>"
      ]
     },
     "metadata": {
      "needs_background": "light"
     },
     "output_type": "display_data"
    }
   ],
   "source": [
    "# Monthly and semester view of sales\n",
    "plt.bar(df[\"Month\"],df[\"Weekly_Sales\"])"
   ]
  },
  {
   "cell_type": "code",
   "execution_count": 87,
   "id": "51a85a7b",
   "metadata": {},
   "outputs": [],
   "source": [
    "# Liner Regression Model"
   ]
  },
  {
   "cell_type": "code",
   "execution_count": 90,
   "id": "e445799b",
   "metadata": {},
   "outputs": [],
   "source": [
    "from sklearn.linear_model import LinearRegression\n",
    "from sklearn import model_selection\n",
    "from sklearn.metrics import mean_squared_error \n",
    "\n",
    "x=df.drop([\"Weekly_Sales\",\"Date\"],axis=1)\n",
    "y=df[\"Weekly_Sales\"]"
   ]
  },
  {
   "cell_type": "code",
   "execution_count": 97,
   "id": "7b62fa98",
   "metadata": {},
   "outputs": [],
   "source": [
    "model=LinearRegression(n_jobs=-1)\n",
    "xtrain,xtest,ytrain,ytest=model_selection.train_test_split(x,y,test_size=0.4,random_state=42)\n",
    "model.fit(xtrain,ytrain)"
   ]
  },
  {
   "cell_type": "code",
   "execution_count": 92,
   "id": "e74a59f1",
   "metadata": {},
   "outputs": [
    {
     "data": {
      "text/plain": [
       "80380267.57798946"
      ]
     },
     "execution_count": 92,
     "metadata": {},
     "output_type": "execute_result"
    }
   ],
   "source": [
    "model.intercept_\n"
   ]
  },
  {
   "cell_type": "code",
   "execution_count": 94,
   "id": "7c254194",
   "metadata": {},
   "outputs": [
    {
     "data": {
      "text/plain": [
       "array([-15063.98405298,  16701.66272831,   -806.19443715,  47215.71929544,\n",
       "        -2175.95412712, -26362.8254153 , -39081.36479694,  11681.52115132])"
      ]
     },
     "execution_count": 94,
     "metadata": {},
     "output_type": "execute_result"
    }
   ],
   "source": [
    "model.coef_"
   ]
  },
  {
   "cell_type": "code",
   "execution_count": null,
   "id": "5d47abc3",
   "metadata": {},
   "outputs": [],
   "source": []
  },
  {
   "cell_type": "code",
   "execution_count": 95,
   "id": "8e182473",
   "metadata": {},
   "outputs": [],
   "source": [
    "features=['Store', 'Holiday_Flag', 'Temperature', 'Fuel_Price', 'CPI', 'Unemployment', 'Year', 'Month']"
   ]
  },
  {
   "cell_type": "code",
   "execution_count": 96,
   "id": "3a6273c7",
   "metadata": {},
   "outputs": [
    {
     "data": {
      "text/plain": [
       "<AxesSubplot:>"
      ]
     },
     "execution_count": 96,
     "metadata": {},
     "output_type": "execute_result"
    },
    {
     "data": {
      "image/png": "[encoded data removed]",
      "text/plain": [
       "<Figure size 432x288 with 1 Axes>"
      ]
     },
     "metadata": {
      "needs_background": "light"
     },
     "output_type": "display_data"
    }
   ],
   "source": [
    "relation=pd.Series(model.coef_,x.columns).sort_values()\n",
    "relation.plot(kind=\"bar\")"
   ]
  },
  {
   "cell_type": "code",
   "execution_count": 99,
   "id": "2a8f24c6",
   "metadata": {},
   "outputs": [],
   "source": [
    "# Changing dates into days"
   ]
  },
  {
   "cell_type": "code",
   "execution_count": 100,
   "id": "86c21fd2",
   "metadata": {},
   "outputs": [],
   "source": [
    "df['days'] = df['Date'].dt.day_name()"
   ]
  },
  {
   "cell_type": "code",
   "execution_count": 107,
   "id": "86e11cf6",
   "metadata": {},
   "outputs": [
    {
     "data": {
      "text/html": [
       "<div>\n",
       "<style scoped>\n",
       "    .dataframe tbody tr th:only-of-type {\n",
       "        vertical-align: middle;\n",
       "    }\n",
       "\n",
       "    .dataframe tbody tr th {\n",
       "        vertical-align: top;\n",
       "    }\n",
       "\n",
       "    .dataframe thead th {\n",
       "        text-align: right;\n",
       "    }\n",
       "</style>\n",
       "<table border=\"1\" class=\"dataframe\">\n",
       "  <thead>\n",
       "    <tr style=\"text-align: right;\">\n",
       "      <th></th>\n",
       "      <th>Store</th>\n",
       "      <th>Date</th>\n",
       "      <th>Weekly_Sales</th>\n",
       "      <th>Holiday_Flag</th>\n",
       "      <th>Temperature</th>\n",
       "      <th>Fuel_Price</th>\n",
       "      <th>CPI</th>\n",
       "      <th>Unemployment</th>\n",
       "      <th>Year</th>\n",
       "      <th>Month</th>\n",
       "      <th>days</th>\n",
       "    </tr>\n",
       "  </thead>\n",
       "  <tbody>\n",
       "    <tr>\n",
       "      <th>0</th>\n",
       "      <td>1</td>\n",
       "      <td>2010-05-02</td>\n",
       "      <td>1643690.90</td>\n",
       "      <td>0</td>\n",
       "      <td>42.31</td>\n",
       "      <td>2.572</td>\n",
       "      <td>211.096358</td>\n",
       "      <td>8.106</td>\n",
       "      <td>2010</td>\n",
       "      <td>5</td>\n",
       "      <td>Sunday</td>\n",
       "    </tr>\n",
       "    <tr>\n",
       "      <th>1</th>\n",
       "      <td>1</td>\n",
       "      <td>2010-12-02</td>\n",
       "      <td>1641957.44</td>\n",
       "      <td>1</td>\n",
       "      <td>38.51</td>\n",
       "      <td>2.548</td>\n",
       "      <td>211.242170</td>\n",
       "      <td>8.106</td>\n",
       "      <td>2010</td>\n",
       "      <td>12</td>\n",
       "      <td>Thursday</td>\n",
       "    </tr>\n",
       "    <tr>\n",
       "      <th>2</th>\n",
       "      <td>1</td>\n",
       "      <td>2010-02-19</td>\n",
       "      <td>1611968.17</td>\n",
       "      <td>0</td>\n",
       "      <td>39.93</td>\n",
       "      <td>2.514</td>\n",
       "      <td>211.289143</td>\n",
       "      <td>8.106</td>\n",
       "      <td>2010</td>\n",
       "      <td>2</td>\n",
       "      <td>Friday</td>\n",
       "    </tr>\n",
       "    <tr>\n",
       "      <th>3</th>\n",
       "      <td>1</td>\n",
       "      <td>2010-02-26</td>\n",
       "      <td>1409727.59</td>\n",
       "      <td>0</td>\n",
       "      <td>46.63</td>\n",
       "      <td>2.561</td>\n",
       "      <td>211.319643</td>\n",
       "      <td>8.106</td>\n",
       "      <td>2010</td>\n",
       "      <td>2</td>\n",
       "      <td>Friday</td>\n",
       "    </tr>\n",
       "    <tr>\n",
       "      <th>4</th>\n",
       "      <td>1</td>\n",
       "      <td>2010-05-03</td>\n",
       "      <td>1554806.68</td>\n",
       "      <td>0</td>\n",
       "      <td>46.50</td>\n",
       "      <td>2.625</td>\n",
       "      <td>211.350143</td>\n",
       "      <td>8.106</td>\n",
       "      <td>2010</td>\n",
       "      <td>5</td>\n",
       "      <td>Monday</td>\n",
       "    </tr>\n",
       "  </tbody>\n",
       "</table>\n",
       "</div>"
      ],
      "text/plain": [
       "   Store       Date  Weekly_Sales  Holiday_Flag  Temperature  Fuel_Price  \\\n",
       "0      1 2010-05-02    1643690.90             0        42.31       2.572   \n",
       "1      1 2010-12-02    1641957.44             1        38.51       2.548   \n",
       "2      1 2010-02-19    1611968.17             0        39.93       2.514   \n",
       "3      1 2010-02-26    1409727.59             0        46.63       2.561   \n",
       "4      1 2010-05-03    1554806.68             0        46.50       2.625   \n",
       "\n",
       "          CPI  Unemployment  Year  Month      days  \n",
       "0  211.096358         8.106  2010      5    Sunday  \n",
       "1  211.242170         8.106  2010     12  Thursday  \n",
       "2  211.289143         8.106  2010      2    Friday  \n",
       "3  211.319643         8.106  2010      2    Friday  \n",
       "4  211.350143         8.106  2010      5    Monday  "
      ]
     },
     "execution_count": 107,
     "metadata": {},
     "output_type": "execute_result"
    }
   ],
   "source": [
    "df.head()"
   ]
  },
  {
   "cell_type": "code",
   "execution_count": null,
   "id": "4a71d14b",
   "metadata": {},
   "outputs": [],
   "source": []
  }
 ],
 "metadata": {
  "kernelspec": {
   "display_name": "Python 3 (ipykernel)",
   "language": "python",
   "name": "python3"
  },
  "language_info": {
   "codemirror_mode": {
    "name": "ipython",
    "version": 3
   },
   "file_extension": ".py",
   "mimetype": "text/x-python",
   "name": "python",
   "nbconvert_exporter": "python",
   "pygments_lexer": "ipython3",
   "version": "3.9.12"
  }
 },
 "nbformat": 4,
 "nbformat_minor": 5
}
